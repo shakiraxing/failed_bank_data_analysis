{
 "cells": [
  {
   "cell_type": "markdown",
   "metadata": {},
   "source": [
    "## Banking Data - Descriptive Analysis\n"
   ]
  },
  {
   "cell_type": "code",
   "execution_count": 2,
   "metadata": {},
   "outputs": [],
   "source": [
    "import pandas as pd"
   ]
  },
  {
   "cell_type": "code",
   "execution_count": 3,
   "metadata": {},
   "outputs": [],
   "source": [
    "path_to_file = \"banklist.csv\" # YOU MIGHT NEED TO UPDATE THIS TO REFLECT THE PATH TO THE DATASET"
   ]
  },
  {
   "cell_type": "code",
   "execution_count": 4,
   "metadata": {
    "scrolled": true
   },
   "outputs": [
    {
     "data": {
      "text/html": [
       "<div>\n",
       "<style scoped>\n",
       "    .dataframe tbody tr th:only-of-type {\n",
       "        vertical-align: middle;\n",
       "    }\n",
       "\n",
       "    .dataframe tbody tr th {\n",
       "        vertical-align: top;\n",
       "    }\n",
       "\n",
       "    .dataframe thead th {\n",
       "        text-align: right;\n",
       "    }\n",
       "</style>\n",
       "<table border=\"1\" class=\"dataframe\">\n",
       "  <thead>\n",
       "    <tr style=\"text-align: right;\">\n",
       "      <th></th>\n",
       "      <th>Bank Name</th>\n",
       "      <th>City</th>\n",
       "      <th>ST</th>\n",
       "      <th>CERT</th>\n",
       "      <th>Acquiring Institution</th>\n",
       "      <th>Closing Date</th>\n",
       "      <th>Updated Date</th>\n",
       "    </tr>\n",
       "  </thead>\n",
       "  <tbody>\n",
       "    <tr>\n",
       "      <th>0</th>\n",
       "      <td>Washington Federal Bank for Savings</td>\n",
       "      <td>Chicago</td>\n",
       "      <td>IL</td>\n",
       "      <td>30570</td>\n",
       "      <td>Royal Savings Bank</td>\n",
       "      <td>15-Dec-17</td>\n",
       "      <td>21-Feb-18</td>\n",
       "    </tr>\n",
       "    <tr>\n",
       "      <th>1</th>\n",
       "      <td>The Farmers and Merchants State Bank of Argonia</td>\n",
       "      <td>Argonia</td>\n",
       "      <td>KS</td>\n",
       "      <td>17719</td>\n",
       "      <td>Conway Bank</td>\n",
       "      <td>13-Oct-17</td>\n",
       "      <td>21-Feb-18</td>\n",
       "    </tr>\n",
       "    <tr>\n",
       "      <th>2</th>\n",
       "      <td>Fayette County Bank</td>\n",
       "      <td>Saint Elmo</td>\n",
       "      <td>IL</td>\n",
       "      <td>1802</td>\n",
       "      <td>United Fidelity Bank, fsb</td>\n",
       "      <td>26-May-17</td>\n",
       "      <td>26-Jul-17</td>\n",
       "    </tr>\n",
       "    <tr>\n",
       "      <th>3</th>\n",
       "      <td>Guaranty Bank, (d/b/a BestBank in Georgia &amp; Mi...</td>\n",
       "      <td>Milwaukee</td>\n",
       "      <td>WI</td>\n",
       "      <td>30003</td>\n",
       "      <td>First-Citizens Bank &amp; Trust Company</td>\n",
       "      <td>5-May-17</td>\n",
       "      <td>26-Jul-17</td>\n",
       "    </tr>\n",
       "    <tr>\n",
       "      <th>4</th>\n",
       "      <td>First NBC Bank</td>\n",
       "      <td>New Orleans</td>\n",
       "      <td>LA</td>\n",
       "      <td>58302</td>\n",
       "      <td>Whitney Bank</td>\n",
       "      <td>28-Apr-17</td>\n",
       "      <td>5-Dec-17</td>\n",
       "    </tr>\n",
       "  </tbody>\n",
       "</table>\n",
       "</div>"
      ],
      "text/plain": [
       "                                           Bank Name         City  ST   CERT  \\\n",
       "0                Washington Federal Bank for Savings      Chicago  IL  30570   \n",
       "1    The Farmers and Merchants State Bank of Argonia      Argonia  KS  17719   \n",
       "2                                Fayette County Bank   Saint Elmo  IL   1802   \n",
       "3  Guaranty Bank, (d/b/a BestBank in Georgia & Mi...    Milwaukee  WI  30003   \n",
       "4                                     First NBC Bank  New Orleans  LA  58302   \n",
       "\n",
       "                 Acquiring Institution Closing Date Updated Date  \n",
       "0                   Royal Savings Bank    15-Dec-17    21-Feb-18  \n",
       "1                          Conway Bank    13-Oct-17    21-Feb-18  \n",
       "2            United Fidelity Bank, fsb    26-May-17    26-Jul-17  \n",
       "3  First-Citizens Bank & Trust Company     5-May-17    26-Jul-17  \n",
       "4                         Whitney Bank    28-Apr-17     5-Dec-17  "
      ]
     },
     "execution_count": 4,
     "metadata": {},
     "output_type": "execute_result"
    }
   ],
   "source": [
    "df=pd.read_csv(path_to_file)\n",
    "df.head()\n"
   ]
  },
  {
   "cell_type": "markdown",
   "metadata": {},
   "source": [
    "This data set includes US banks which have failed since October 1, 2000. <br>\n",
    "\n",
    "- The `Bank Name` is the name of the failed bank. <br>\n",
    "- The `Acquiring Institution` represents the bank that bought the failed bank. <br>\n",
    "- The `CERT` represents the FDIC Certificate Number - a unique number assigned by the FDIC used to identify institutions and for the issuance of insurance certificates. <br>\n",
    "- The `Closing Date` column stores the date that the acquisition closed. <br>\n",
    "- The `Updated Date` stores the date at which the last update for the deal occurred. <br>\n",
    "<br>\n",
    "\n",
    "You can find more information about this dataset here: https://www.fdic.gov/bank/individual/failed/ <br>\n"
   ]
  },
  {
   "cell_type": "markdown",
   "metadata": {},
   "source": [
    "#### How many rows/columns  are there in the dataset?\n"
   ]
  },
  {
   "cell_type": "code",
   "execution_count": 4,
   "metadata": {},
   "outputs": [
    {
     "data": {
      "text/plain": [
       "(555, 7)"
      ]
     },
     "execution_count": 4,
     "metadata": {},
     "output_type": "execute_result"
    }
   ],
   "source": [
    "df.shape"
   ]
  },
  {
   "cell_type": "markdown",
   "metadata": {},
   "source": [
    "There are 555 rows and 7 columns."
   ]
  },
  {
   "cell_type": "markdown",
   "metadata": {},
   "source": [
    "#### Determine if the dataset has any missing values in the categorical columns. If there are, replace them with a \"M\" value. "
   ]
  },
  {
   "cell_type": "code",
   "execution_count": 68,
   "metadata": {},
   "outputs": [
    {
     "data": {
      "text/plain": [
       "Bank Name                0\n",
       "City                     0\n",
       "ST                       0\n",
       "CERT                     0\n",
       "Acquiring Institution    0\n",
       "Closing Date             0\n",
       "Updated Date             0\n",
       "dtype: int64"
      ]
     },
     "execution_count": 68,
     "metadata": {},
     "output_type": "execute_result"
    }
   ],
   "source": [
    "df.isna().sum()\n",
    "# same: df.isnull().sum()"
   ]
  },
  {
   "cell_type": "markdown",
   "metadata": {},
   "source": [
    "#### There is no missing value in this dataset."
   ]
  },
  {
   "cell_type": "markdown",
   "metadata": {},
   "source": [
    "#### What are the top 4 acquiring institutions? <br>\n",
    "Note that the value `No Acquirer` means the failed bank was not acquired so this is not an \"acquiring institution\"."
   ]
  },
  {
   "cell_type": "code",
   "execution_count": 6,
   "metadata": {},
   "outputs": [
    {
     "data": {
      "text/plain": [
       "No Acquirer                            31\n",
       "State Bank and Trust Company           12\n",
       "First-Citizens Bank & Trust Company    11\n",
       "Ameris Bank                            10\n",
       "U.S. Bank N.A.                          9\n",
       "Name: Acquiring Institution, dtype: int64"
      ]
     },
     "execution_count": 6,
     "metadata": {},
     "output_type": "execute_result"
    }
   ],
   "source": [
    "df['Acquiring Institution'].value_counts()[:5]\n"
   ]
  },
  {
   "cell_type": "code",
   "execution_count": 169,
   "metadata": {},
   "outputs": [
    {
     "data": {
      "text/plain": [
       "['State Bank and Trust Company',\n",
       " 'First-Citizens Bank & Trust Company',\n",
       " 'Ameris Bank',\n",
       " 'U.S. Bank N.A.']"
      ]
     },
     "execution_count": 169,
     "metadata": {},
     "output_type": "execute_result"
    }
   ],
   "source": [
    "df['Acquiring Institution'].value_counts().index.tolist()[1:5]"
   ]
  },
  {
   "cell_type": "markdown",
   "metadata": {},
   "source": [
    "#### So, the top 4 Acquiring Institution are:\n",
    "State Bank and Trust Company           12,\n",
    "First-Citizens Bank & Trust Company    11,\n",
    "Ameris Bank                            10,\n",
    "U.S. Bank N.A.                          9."
   ]
  },
  {
   "cell_type": "markdown",
   "metadata": {
    "collapsed": true
   },
   "source": [
    "#### What are the 3 states that had the highest number of bank failures and how many bank failures did they have? <br>\n",
    "#### What are the states with the lowest number of bank failures and how many bank failures did they have?<br>"
   ]
  },
  {
   "cell_type": "code",
   "execution_count": 30,
   "metadata": {},
   "outputs": [
    {
     "data": {
      "text/plain": [
       "GA    93\n",
       "FL    75\n",
       "IL    69\n",
       "Name: ST, dtype: int64"
      ]
     },
     "execution_count": 30,
     "metadata": {},
     "output_type": "execute_result"
    }
   ],
   "source": [
    "df['ST'].value_counts().head(3)"
   ]
  },
  {
   "cell_type": "code",
   "execution_count": 22,
   "metadata": {},
   "outputs": [
    {
     "data": {
      "text/plain": [
       "IA    2\n",
       "ID    2\n",
       "MS    2\n",
       "KY    2\n",
       "HI    1\n",
       "NH    1\n",
       "WV    1\n",
       "WY    1\n",
       "MA    1\n",
       "SD    1\n",
       "Name: ST, dtype: int64"
      ]
     },
     "execution_count": 22,
     "metadata": {},
     "output_type": "execute_result"
    }
   ],
   "source": [
    "df['ST'].value_counts().tail(10)"
   ]
  },
  {
   "cell_type": "markdown",
   "metadata": {},
   "source": [
    "The lowest number of bank failures is 1. These states are HI,   NH,  WV,     WY,    MA and SD."
   ]
  },
  {
   "cell_type": "markdown",
   "metadata": {},
   "source": [
    "#### How many distinct states are there in the dataset? <br>"
   ]
  },
  {
   "cell_type": "code",
   "execution_count": 34,
   "metadata": {},
   "outputs": [
    {
     "data": {
      "text/plain": [
       "44"
      ]
     },
     "execution_count": 34,
     "metadata": {},
     "output_type": "execute_result"
    }
   ],
   "source": [
    "df['ST'].nunique()"
   ]
  },
  {
   "cell_type": "markdown",
   "metadata": {},
   "source": [
    "#### How many city names start with the letter 'A'?"
   ]
  },
  {
   "cell_type": "code",
   "execution_count": 115,
   "metadata": {},
   "outputs": [
    {
     "data": {
      "text/plain": [
       "19"
      ]
     },
     "execution_count": 115,
     "metadata": {},
     "output_type": "execute_result"
    }
   ],
   "source": [
    "# df[df['City'].str.startswith('A')]\n",
    "df[df['City'].str.startswith('A')]['City'].nunique()"
   ]
  },
  {
   "cell_type": "code",
   "execution_count": 114,
   "metadata": {},
   "outputs": [
    {
     "data": {
      "text/plain": [
       "19"
      ]
     },
     "execution_count": 114,
     "metadata": {},
     "output_type": "execute_result"
    }
   ],
   "source": [
    "# Approach 2:\n",
    "city_unique = pd.Series(df['City'].unique().tolist())\n",
    "city_unique[city_unique.str.startswith('A')].count()"
   ]
  },
  {
   "cell_type": "markdown",
   "metadata": {
    "collapsed": true
   },
   "source": [
    "#### What are the cities whose names consist of 2 words and how many are there? (Note, take care of duplicates.)"
   ]
  },
  {
   "cell_type": "code",
   "execution_count": 164,
   "metadata": {},
   "outputs": [
    {
     "data": {
      "text/plain": [
       "0      False\n",
       "1      False\n",
       "2       True\n",
       "3      False\n",
       "4       True\n",
       "       ...  \n",
       "421    False\n",
       "422    False\n",
       "423    False\n",
       "424    False\n",
       "425    False\n",
       "Length: 426, dtype: bool"
      ]
     },
     "execution_count": 164,
     "metadata": {},
     "output_type": "execute_result"
    }
   ],
   "source": [
    "pd.Series(df['City'].unique()).str.split()\n",
    "index = pd.Series(df['City'].unique()).str.split().str.len() == 2\n",
    "index"
   ]
  },
  {
   "cell_type": "code",
   "execution_count": 163,
   "metadata": {},
   "outputs": [
    {
     "data": {
      "text/plain": [
       "2              Saint Elmo\n",
       "4             New Orleans\n",
       "5      Cottonwood Heights\n",
       "12         Peachtree City\n",
       "14               San Juan\n",
       "              ...        \n",
       "388           Culver City\n",
       "396         Newport Beach\n",
       "408          White Plains\n",
       "417       Shelby Township\n",
       "419         Sierra Blanca\n",
       "Length: 108, dtype: object"
      ]
     },
     "execution_count": 163,
     "metadata": {},
     "output_type": "execute_result"
    }
   ],
   "source": [
    "city_unique.loc[index]"
   ]
  },
  {
   "cell_type": "markdown",
   "metadata": {},
   "source": [
    "#### There are 108 cities whose name contains 2 words. They are:"
   ]
  },
  {
   "cell_type": "code",
   "execution_count": 165,
   "metadata": {},
   "outputs": [
    {
     "data": {
      "text/plain": [
       "['Saint Elmo',\n",
       " 'New Orleans',\n",
       " 'Cottonwood Heights',\n",
       " 'Peachtree City',\n",
       " 'San Juan',\n",
       " 'Palm Desert',\n",
       " 'Rising Sun',\n",
       " 'Fort Lauderdale',\n",
       " 'Bel Air',\n",
       " 'El Reno',\n",
       " 'West Chicago',\n",
       " 'The Woodlands',\n",
       " 'Fort Myers',\n",
       " 'Orange Park',\n",
       " 'Gold Canyon',\n",
       " 'University Place',\n",
       " 'Sunrise Beach',\n",
       " 'St. Louis',\n",
       " 'North Lauderdale',\n",
       " 'Pawleys Island',\n",
       " 'Maple Grove',\n",
       " 'Fort Lee',\n",
       " 'Rock Spring',\n",
       " 'Little Falls',\n",
       " 'Hoffman Estates',\n",
       " 'Forest Lake',\n",
       " 'Saint George',\n",
       " 'Des Plaines',\n",
       " 'Greenwood Village',\n",
       " 'Nevada City',\n",
       " 'Palm Beach',\n",
       " 'Huntingdon Valley',\n",
       " 'Apollo Beach',\n",
       " 'Castle Rock',\n",
       " 'Cocoa Beach',\n",
       " 'Mount Clemens',\n",
       " 'Winter Park',\n",
       " 'East Ellijay',\n",
       " 'Las Vegas',\n",
       " 'Western Springs',\n",
       " 'Wood Dale',\n",
       " 'St. Charles',\n",
       " 'Palm Springs',\n",
       " 'Port Orange',\n",
       " 'Lino Lakes',\n",
       " 'Coral Gables',\n",
       " 'Farmington Hills',\n",
       " 'Bala Cynwyd',\n",
       " 'Woodland Hills',\n",
       " 'Overland Park',\n",
       " 'Jefferson City',\n",
       " 'West Allis',\n",
       " 'Cherry Hill',\n",
       " 'Palos Heights',\n",
       " 'Cave Junction',\n",
       " 'New Prague',\n",
       " 'Sylvan Grove',\n",
       " 'Port Chester',\n",
       " 'Granite Bay',\n",
       " 'Saint Paul',\n",
       " 'Elmwood Park',\n",
       " 'Saint Marys',\n",
       " 'San Diego',\n",
       " 'Creve Coeur',\n",
       " 'Port Huron',\n",
       " 'Hato Rey',\n",
       " 'San Rafael',\n",
       " 'Fort Pierce',\n",
       " 'Sterling Heights',\n",
       " 'Myrtle Beach',\n",
       " 'Key West',\n",
       " 'Fort Deposit',\n",
       " 'New York',\n",
       " 'Boca Raton',\n",
       " 'Carson City',\n",
       " 'La Jolla',\n",
       " 'Orland Park',\n",
       " 'La Coste',\n",
       " 'Marco Island',\n",
       " 'Bainbridge Island',\n",
       " 'Los Angeles',\n",
       " 'The Dalles',\n",
       " 'Santa Fe',\n",
       " 'St. Stephen',\n",
       " 'Santa Monica',\n",
       " 'New Baltimore',\n",
       " 'Panama City',\n",
       " 'San Clemente',\n",
       " 'San Francisco',\n",
       " 'Spring Grove',\n",
       " 'Rolling Meadows',\n",
       " 'Sioux City',\n",
       " 'Oak Forest',\n",
       " 'Kansas City',\n",
       " 'West Chester',\n",
       " 'Rancho Cucamonga',\n",
       " 'Sioux Falls',\n",
       " 'Pine City',\n",
       " 'Villa Rica',\n",
       " 'Sugar Creek',\n",
       " 'Colorado Springs',\n",
       " 'Cape Coral',\n",
       " 'Loup City',\n",
       " 'Culver City',\n",
       " 'Newport Beach',\n",
       " 'White Plains',\n",
       " 'Shelby Township',\n",
       " 'Sierra Blanca']"
      ]
     },
     "execution_count": 165,
     "metadata": {},
     "output_type": "execute_result"
    }
   ],
   "source": [
    "city_unique.loc[index].tolist()"
   ]
  },
  {
   "cell_type": "code",
   "execution_count": 16,
   "metadata": {},
   "outputs": [
    {
     "data": {
      "text/plain": [
       "GA    93\n",
       "FL    75\n",
       "IL    69\n",
       "CA    41\n",
       "MN    23\n",
       "WA    19\n",
       "MO    16\n",
       "AZ    16\n",
       "MI    14\n",
       "NV    12\n",
       "TX    12\n",
       "WI    11\n",
       "CO    10\n",
       "MD    10\n",
       "SC    10\n",
       "PA    10\n",
       "KS    10\n",
       "OH     8\n",
       "UT     8\n",
       "AL     7\n",
       "NC     7\n",
       "OK     7\n",
       "NJ     7\n",
       "TN     7\n",
       "OR     6\n",
       "NY     5\n",
       "VA     5\n",
       "LA     4\n",
       "AR     4\n",
       "PR     4\n",
       "NM     3\n",
       "IN     3\n",
       "NE     3\n",
       "IA     2\n",
       "CT     2\n",
       "MS     2\n",
       "ID     2\n",
       "KY     2\n",
       "MA     1\n",
       "WV     1\n",
       "NH     1\n",
       "SD     1\n",
       "HI     1\n",
       "WY     1\n",
       "Name: ST, dtype: int64"
      ]
     },
     "execution_count": 16,
     "metadata": {},
     "output_type": "execute_result"
    }
   ],
   "source": [
    "df.ST.value_counts()"
   ]
  },
  {
   "cell_type": "code",
   "execution_count": 22,
   "metadata": {},
   "outputs": [
    {
     "data": {
      "text/plain": [
       "Chicago        20\n",
       "Atlanta        10\n",
       "Phoenix         6\n",
       "Naples          5\n",
       "Las Vegas       4\n",
       "Alpharetta      4\n",
       "Los Angeles     4\n",
       "Miami           4\n",
       "Bradenton       4\n",
       "Scottsdale      4\n",
       "Name: City, dtype: int64"
      ]
     },
     "execution_count": 22,
     "metadata": {},
     "output_type": "execute_result"
    }
   ],
   "source": [
    "df.City.value_counts().head(10)"
   ]
  },
  {
   "cell_type": "code",
   "execution_count": 18,
   "metadata": {},
   "outputs": [
    {
     "data": {
      "text/plain": [
       "('1-Aug-08', '9-Sep-11')"
      ]
     },
     "execution_count": 18,
     "metadata": {},
     "output_type": "execute_result"
    }
   ],
   "source": [
    "df['Closing Date'].min(),df['Closing Date'].max()"
   ]
  },
  {
   "cell_type": "code",
   "execution_count": null,
   "metadata": {},
   "outputs": [],
   "source": []
  }
 ],
 "metadata": {
  "kernelspec": {
   "display_name": "Python 3",
   "language": "python",
   "name": "python3"
  },
  "language_info": {
   "codemirror_mode": {
    "name": "ipython",
    "version": 3
   },
   "file_extension": ".py",
   "mimetype": "text/x-python",
   "name": "python",
   "nbconvert_exporter": "python",
   "pygments_lexer": "ipython3",
   "version": "3.7.6"
  }
 },
 "nbformat": 4,
 "nbformat_minor": 2
}
